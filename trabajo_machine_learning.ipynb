{
  "nbformat": 4,
  "nbformat_minor": 0,
  "metadata": {
    "colab": {
      "name": "trabajo machine learning.ipynb",
      "provenance": [],
      "collapsed_sections": [],
      "authorship_tag": "ABX9TyMQb2jcTLnM6Wxp09BMZXto",
      "include_colab_link": true
    },
    "kernelspec": {
      "name": "python3",
      "display_name": "Python 3"
    },
    "accelerator": "TPU"
  },
  "cells": [
    {
      "cell_type": "markdown",
      "metadata": {
        "id": "view-in-github",
        "colab_type": "text"
      },
      "source": [
        "<a href=\"https://colab.research.google.com/github/roberth2018/Trabajos-de-Machine-Learning/blob/main/trabajo_machine_learning.ipynb\" target=\"_parent\"><img src=\"https://colab.research.google.com/assets/colab-badge.svg\" alt=\"Open In Colab\"/></a>"
      ]
    },
    {
      "cell_type": "markdown",
      "metadata": {
        "id": "2jp-d01dGpIM"
      },
      "source": [
        "**TRABAJO DE MACHINE LEARNING **"
      ]
    },
    {
      "cell_type": "code",
      "metadata": {
        "id": "-CndlihcsNUE"
      },
      "source": [
        "import numpy as np\r\n",
        "import pandas as pd\r\n",
        "from pandas import read_csv "
      ],
      "execution_count": 7,
      "outputs": []
    },
    {
      "cell_type": "code",
      "metadata": {
        "colab": {
          "base_uri": "https://localhost:8080/"
        },
        "id": "1N_SypfesYF2",
        "outputId": "5e0a5088-bbba-40ff-8179-7b888ed601a8"
      },
      "source": [
        "# Importando la dataset\r\n",
        "data_covid=read_csv('Data_cov.csv',sep=';' , encoding='latin-1',header=0)\r\n",
        "#Detalles de la data\r\n",
        "print(data_covid.info())"
      ],
      "execution_count": 4,
      "outputs": [
        {
          "output_type": "stream",
          "text": [
            "<class 'pandas.core.frame.DataFrame'>\n",
            "RangeIndex: 1998 entries, 0 to 1997\n",
            "Data columns (total 19 columns):\n",
            " #   Column                Non-Null Count  Dtype  \n",
            "---  ------                --------------  -----  \n",
            " 0   Sector                1998 non-null   object \n",
            " 1   Dep                   1998 non-null   object \n",
            " 2   Impactado             1998 non-null   int64  \n",
            " 3   Saldo                 1998 non-null   float64\n",
            " 4   Desembolso_mes        1998 non-null   float64\n",
            " 5   Saldo Promedio        1998 non-null   float64\n",
            " 6   Deuda Sistea,         1998 non-null   float64\n",
            " 7   Pasivo                1998 non-null   float64\n",
            " 8   Turismo               1998 non-null   int64  \n",
            " 9   Sector de Impacto     1998 non-null   int64  \n",
            " 10  Venta                 1998 non-null   float64\n",
            " 11  Venta Formal          1998 non-null   float64\n",
            " 12  Pasivo_desembolso     1998 non-null   float64\n",
            " 13  Deuda rezagada va     1998 non-null   float64\n",
            " 14  Deuda rezagada vr     1998 non-null   float64\n",
            " 15  pasivo rezagada va    1998 non-null   float64\n",
            " 16  pasivo rezagada vr    1998 non-null   float64\n",
            " 17  Pasivo_desembolso da  1998 non-null   float64\n",
            " 18  Pasivo_desembolso dr  1998 non-null   float64\n",
            "dtypes: float64(14), int64(3), object(2)\n",
            "memory usage: 296.7+ KB\n",
            "None\n"
          ],
          "name": "stdout"
        }
      ]
    },
    {
      "cell_type": "code",
      "metadata": {
        "colab": {
          "base_uri": "https://localhost:8080/"
        },
        "id": "fcTZUOXEtJEY",
        "outputId": "8589234c-29e1-4fbc-c44a-2b3032e1a8b0"
      },
      "source": [
        "#Missing values\r\n",
        "# Eliminando valores nulos \r\n",
        "print(data_covid.isnull().sum())"
      ],
      "execution_count": 3,
      "outputs": [
        {
          "output_type": "stream",
          "text": [
            "Sector                  0\n",
            "Dep                     0\n",
            "Impactado               0\n",
            "Saldo                   0\n",
            "Desembolso_mes          0\n",
            "Saldo Promedio          0\n",
            "Deuda Sistea,           0\n",
            "Pasivo                  0\n",
            "Turismo                 0\n",
            "Sector de Impacto       0\n",
            "Venta                   0\n",
            "Venta Formal            0\n",
            "Pasivo_desembolso       0\n",
            "Deuda rezagada va       0\n",
            "Deuda rezagada vr       0\n",
            "pasivo rezagada va      0\n",
            "pasivo rezagada vr      0\n",
            "Pasivo_desembolso da    0\n",
            "Pasivo_desembolso dr    0\n",
            "dtype: int64\n"
          ],
          "name": "stdout"
        }
      ]
    },
    {
      "cell_type": "code",
      "metadata": {
        "colab": {
          "base_uri": "https://localhost:8080/",
          "height": 293
        },
        "id": "RWCoX3yEtPNQ",
        "outputId": "9062803b-de7f-4379-ce2a-a86187c057ca"
      },
      "source": [
        "#Eliminando OUTLIERS\r\n",
        "#Saldo\r\n",
        "data_covid.Saldo.plot.box()"
      ],
      "execution_count": 5,
      "outputs": [
        {
          "output_type": "execute_result",
          "data": {
            "text/plain": [
              "<matplotlib.axes._subplots.AxesSubplot at 0x7fc7b84fe710>"
            ]
          },
          "metadata": {
            "tags": []
          },
          "execution_count": 5
        },
        {
          "output_type": "display_data",
          "data": {
            "image/png": "[encoded data removed]",
            "text/plain": [
              "<Figure size 432x288 with 1 Axes>"
            ]
          },
          "metadata": {
            "tags": [],
            "needs_background": "light"
          }
        }
      ]
    },
    {
      "cell_type": "code",
      "metadata": {
        "colab": {
          "base_uri": "https://localhost:8080/",
          "height": 293
        },
        "id": "TMHiMOU_tsa0",
        "outputId": "245eb995-d33d-4c1b-c3a4-6ccbcc7eadbd"
      },
      "source": [
        "#Saldo después de eliminar outliers\r\n",
        "cotas_Saldo=np.percentile(data_covid[-data_covid.Saldo.isnull()]['Saldo'],[1,90])\r\n",
        "cotas_Saldo\r\n",
        "data_covid.loc[data_covid.Saldo>=cotas_Saldo[1],'Saldo']=cotas_Saldo[1]\r\n",
        "data_covid.loc[data_covid.Saldo<=cotas_Saldo[0],'Saldo']=cotas_Saldo[0]\r\n",
        "[np.min(data_covid.Saldo),np.max(data_covid.Saldo)]\r\n",
        "data_covid.Saldo.plot.box()"
      ],
      "execution_count": 8,
      "outputs": [
        {
          "output_type": "execute_result",
          "data": {
            "text/plain": [
              "<matplotlib.axes._subplots.AxesSubplot at 0x7fc7b7f1a588>"
            ]
          },
          "metadata": {
            "tags": []
          },
          "execution_count": 8
        },
        {
          "output_type": "display_data",
          "data": {
            "image/png": "[encoded data removed]",
            "text/plain": [
              "<Figure size 432x288 with 1 Axes>"
            ]
          },
          "metadata": {
            "tags": [],
            "needs_background": "light"
          }
        }
      ]
    },
    {
      "cell_type": "code",
      "metadata": {
        "colab": {
          "base_uri": "https://localhost:8080/",
          "height": 293
        },
        "id": "X4vcxIVRzC-J",
        "outputId": "63f8ad5f-53e7-43d6-eb64-7aa567781cbc"
      },
      "source": [
        "#Saldo promedio\r\n",
        "data_covid[\"Saldo Promedio\"].plot.box()"
      ],
      "execution_count": 10,
      "outputs": [
        {
          "output_type": "execute_result",
          "data": {
            "text/plain": [
              "<matplotlib.axes._subplots.AxesSubplot at 0x7fc7b6a750b8>"
            ]
          },
          "metadata": {
            "tags": []
          },
          "execution_count": 10
        },
        {
          "output_type": "display_data",
          "data": {
            "image/png": "[encoded data removed]",
            "text/plain": [
              "<Figure size 432x288 with 1 Axes>"
            ]
          },
          "metadata": {
            "tags": [],
            "needs_background": "light"
          }
        }
      ]
    },
    {
      "cell_type": "code",
      "metadata": {
        "colab": {
          "base_uri": "https://localhost:8080/",
          "height": 282
        },
        "id": "Vm1UFg9rt7sQ",
        "outputId": "3370c053-cf8c-4671-abfe-8e98a210e20e"
      },
      "source": [
        "#saldo promedio después\r\n",
        "cotas_Saldo_promedio=np.percentile(data_covid[-data_covid[\"Saldo Promedio\"].isnull()]['Saldo Promedio'],[1,90])\r\n",
        "cotas_Saldo_promedio\r\n",
        "data_covid.loc[data_covid[\"Saldo Promedio\"]>=cotas_Saldo_promedio[1],'Saldo Promedio']=cotas_Saldo_promedio[1]\r\n",
        "data_covid.loc[data_covid[\"Saldo Promedio\"]<=cotas_Saldo_promedio[0],'Saldo Promedio']=cotas_Saldo_promedio[0]\r\n",
        "data_covid[\"Saldo Promedio\"].plot.box()"
      ],
      "execution_count": 11,
      "outputs": [
        {
          "output_type": "execute_result",
          "data": {
            "text/plain": [
              "<matplotlib.axes._subplots.AxesSubplot at 0x7fc7b69fff28>"
            ]
          },
          "metadata": {
            "tags": []
          },
          "execution_count": 11
        },
        {
          "output_type": "display_data",
          "data": {
            "image/png": "[encoded data removed]",
            "text/plain": [
              "<Figure size 432x288 with 1 Axes>"
            ]
          },
          "metadata": {
            "tags": [],
            "needs_background": "light"
          }
        }
      ]
    },
    {
      "cell_type": "code",
      "metadata": {
        "colab": {
          "base_uri": "https://localhost:8080/",
          "height": 284
        },
        "id": "UB4H8AGOzU6q",
        "outputId": "6cc23a5a-b3b9-4173-ba01-3819be288c94"
      },
      "source": [
        "#Desembolso mes\r\n",
        "data_covid[\"Desembolso_mes\"].plot.box()"
      ],
      "execution_count": 12,
      "outputs": [
        {
          "output_type": "execute_result",
          "data": {
            "text/plain": [
              "<matplotlib.axes._subplots.AxesSubplot at 0x7fc7b6ae6ac8>"
            ]
          },
          "metadata": {
            "tags": []
          },
          "execution_count": 12
        },
        {
          "output_type": "display_data",
          "data": {
            "image/png": "[encoded data removed]",
            "text/plain": [
              "<Figure size 432x288 with 1 Axes>"
            ]
          },
          "metadata": {
            "tags": [],
            "needs_background": "light"
          }
        }
      ]
    },
    {
      "cell_type": "code",
      "metadata": {
        "colab": {
          "base_uri": "https://localhost:8080/",
          "height": 283
        },
        "id": "RGRhVd4NzaCQ",
        "outputId": "608b7bc1-139c-499e-d456-2e2341b6f55c"
      },
      "source": [
        "#Desembolso después\r\n",
        "cotas_Desembolso_mes=np.percentile(data_covid[-data_covid[\"Desembolso_mes\"].isnull()]['Desembolso_mes'],[1,90])\r\n",
        "cotas_Desembolso_mes\r\n",
        "data_covid.loc[data_covid[\"Desembolso_mes\"]>=cotas_Desembolso_mes[1],'Desembolso_mes']=cotas_Desembolso_mes[1]\r\n",
        "data_covid.loc[data_covid[\"Desembolso_mes\"]<=cotas_Desembolso_mes[0],'Desembolso_mes']=cotas_Desembolso_mes[0]\r\n",
        "data_covid[\"Desembolso_mes\"].plot.box()"
      ],
      "execution_count": 14,
      "outputs": [
        {
          "output_type": "execute_result",
          "data": {
            "text/plain": [
              "<matplotlib.axes._subplots.AxesSubplot at 0x7fc7b6921eb8>"
            ]
          },
          "metadata": {
            "tags": []
          },
          "execution_count": 14
        },
        {
          "output_type": "display_data",
          "data": {
            "image/png": "[encoded data removed]",
            "text/plain": [
              "<Figure size 432x288 with 1 Axes>"
            ]
          },
          "metadata": {
            "tags": [],
            "needs_background": "light"
          }
        }
      ]
    },
    {
      "cell_type": "code",
      "metadata": {
        "colab": {
          "base_uri": "https://localhost:8080/",
          "height": 293
        },
        "id": "xo1EyjZLzlI2",
        "outputId": "ee7cdc2e-c992-4842-9d11-fe2ae0b15ed1"
      },
      "source": [
        "#Deuda Sistema\r\n",
        "data_covid[\"Deuda Sistea,\"].plot.box()"
      ],
      "execution_count": 15,
      "outputs": [
        {
          "output_type": "execute_result",
          "data": {
            "text/plain": [
              "<matplotlib.axes._subplots.AxesSubplot at 0x7fc7b6914c50>"
            ]
          },
          "metadata": {
            "tags": []
          },
          "execution_count": 15
        },
        {
          "output_type": "display_data",
          "data": {
            "image/png": "[encoded data removed]",
            "text/plain": [
              "<Figure size 432x288 with 1 Axes>"
            ]
          },
          "metadata": {
            "tags": [],
            "needs_background": "light"
          }
        }
      ]
    },
    {
      "cell_type": "code",
      "metadata": {
        "colab": {
          "base_uri": "https://localhost:8080/",
          "height": 282
        },
        "id": "m602knaizpxC",
        "outputId": "c29914ee-204b-433d-80fa-312d68285d46"
      },
      "source": [
        "#Deuda sin ouliers\r\n",
        "cotas_Deuda_sistema=np.percentile(data_covid[-data_covid[\"Deuda Sistea,\"].isnull()]['Deuda Sistea,'],[1,90])\r\n",
        "cotas_Deuda_sistema\r\n",
        "data_covid.loc[data_covid[\"Deuda Sistea,\"]>=cotas_Deuda_sistema[1],'Deuda Sistea,']=cotas_Deuda_sistema[1]\r\n",
        "data_covid.loc[data_covid[\"Deuda Sistea,\"]<=cotas_Deuda_sistema[0],'Deuda Sistea,']=cotas_Deuda_sistema[0]\r\n",
        "data_covid[\"Deuda Sistea,\"].plot.box()"
      ],
      "execution_count": 16,
      "outputs": [
        {
          "output_type": "execute_result",
          "data": {
            "text/plain": [
              "<matplotlib.axes._subplots.AxesSubplot at 0x7fc7b67eb358>"
            ]
          },
          "metadata": {
            "tags": []
          },
          "execution_count": 16
        },
        {
          "output_type": "display_data",
          "data": {
            "image/png": "[encoded data removed]",
            "text/plain": [
              "<Figure size 432x288 with 1 Axes>"
            ]
          },
          "metadata": {
            "tags": [],
            "needs_background": "light"
          }
        }
      ]
    },
    {
      "cell_type": "code",
      "metadata": {
        "colab": {
          "base_uri": "https://localhost:8080/",
          "height": 293
        },
        "id": "rSQ65SiZzvvO",
        "outputId": "8b78acb5-6a70-4472-894c-27f6e8f21872"
      },
      "source": [
        "#Pasivos \r\n",
        "data_covid[\"Pasivo\"].plot.box()"
      ],
      "execution_count": 17,
      "outputs": [
        {
          "output_type": "execute_result",
          "data": {
            "text/plain": [
              "<matplotlib.axes._subplots.AxesSubplot at 0x7fc7b67d0d68>"
            ]
          },
          "metadata": {
            "tags": []
          },
          "execution_count": 17
        },
        {
          "output_type": "display_data",
          "data": {
            "image/png": "[encoded data removed]",
            "text/plain": [
              "<Figure size 432x288 with 1 Axes>"
            ]
          },
          "metadata": {
            "tags": [],
            "needs_background": "light"
          }
        }
      ]
    },
    {
      "cell_type": "code",
      "metadata": {
        "colab": {
          "base_uri": "https://localhost:8080/",
          "height": 282
        },
        "id": "ctcTLBgXz7tZ",
        "outputId": "26fe0b3a-85c8-4e06-fb7f-cb64cc5ed1ce"
      },
      "source": [
        "#Pasivos sin outliers\r\n",
        "cotas_Pasivo=np.percentile(data_covid[-data_covid[\"Pasivo\"].isnull()]['Pasivo'],[1,80])\r\n",
        "cotas_Pasivo\r\n",
        "data_covid.loc[data_covid[\"Pasivo\"]>=cotas_Pasivo[1],'Pasivo']=cotas_Pasivo[1]\r\n",
        "data_covid.loc[data_covid[\"Pasivo\"]<=cotas_Pasivo[0],'Pasivo']=cotas_Pasivo[0]\r\n",
        "data_covid[\"Pasivo\"].plot.box()"
      ],
      "execution_count": 19,
      "outputs": [
        {
          "output_type": "execute_result",
          "data": {
            "text/plain": [
              "<matplotlib.axes._subplots.AxesSubplot at 0x7fc7b66ac630>"
            ]
          },
          "metadata": {
            "tags": []
          },
          "execution_count": 19
        },
        {
          "output_type": "display_data",
          "data": {
            "image/png": "[encoded data removed]",
            "text/plain": [
              "<Figure size 432x288 with 1 Axes>"
            ]
          },
          "metadata": {
            "tags": [],
            "needs_background": "light"
          }
        }
      ]
    },
    {
      "cell_type": "code",
      "metadata": {
        "colab": {
          "base_uri": "https://localhost:8080/",
          "height": 293
        },
        "id": "SPq_ftM_0Gkw",
        "outputId": "0f7278f0-3220-4ab7-ef26-caac334fd4f5"
      },
      "source": [
        "#Venta\r\n",
        "data_covid[\"Venta \"].plot.box()"
      ],
      "execution_count": 20,
      "outputs": [
        {
          "output_type": "execute_result",
          "data": {
            "text/plain": [
              "<matplotlib.axes._subplots.AxesSubplot at 0x7fc7b679efd0>"
            ]
          },
          "metadata": {
            "tags": []
          },
          "execution_count": 20
        },
        {
          "output_type": "display_data",
          "data": {
            "image/png": "[encoded data removed]",
            "text/plain": [
              "<Figure size 432x288 with 1 Axes>"
            ]
          },
          "metadata": {
            "tags": [],
            "needs_background": "light"
          }
        }
      ]
    },
    {
      "cell_type": "code",
      "metadata": {
        "colab": {
          "base_uri": "https://localhost:8080/",
          "height": 282
        },
        "id": "7L0Fx_iT0MAm",
        "outputId": "4b03a34e-1a8b-4a4c-bc61-2a93e44bbe71"
      },
      "source": [
        "#Ventas sin outliers\r\n",
        "cotas_Venta=np.percentile(data_covid[-data_covid[\"Venta \"].isnull()]['Venta '],[1,90])\r\n",
        "cotas_Venta\r\n",
        "data_covid.loc[data_covid[\"Venta \"]>=cotas_Venta[1],'Venta ']=cotas_Venta[1]\r\n",
        "data_covid.loc[data_covid[\"Venta \"]<=cotas_Venta[0],'Venta ']=cotas_Venta[0]\r\n",
        "data_covid[\"Venta \"].plot.box()"
      ],
      "execution_count": 21,
      "outputs": [
        {
          "output_type": "execute_result",
          "data": {
            "text/plain": [
              "<matplotlib.axes._subplots.AxesSubplot at 0x7fc7b684db70>"
            ]
          },
          "metadata": {
            "tags": []
          },
          "execution_count": 21
        },
        {
          "output_type": "display_data",
          "data": {
            "image/png": "[encoded data removed]",
            "text/plain": [
              "<Figure size 432x288 with 1 Axes>"
            ]
          },
          "metadata": {
            "tags": [],
            "needs_background": "light"
          }
        }
      ]
    },
    {
      "cell_type": "code",
      "metadata": {
        "colab": {
          "base_uri": "https://localhost:8080/",
          "height": 293
        },
        "id": "_axU9HOq0RNY",
        "outputId": "789c353a-3d58-47bf-8d49-ccc21153a3ff"
      },
      "source": [
        "# Venta formal\r\n",
        "data_covid[\"Venta Formal\"].plot.box()"
      ],
      "execution_count": 22,
      "outputs": [
        {
          "output_type": "execute_result",
          "data": {
            "text/plain": [
              "<matplotlib.axes._subplots.AxesSubplot at 0x7fc7b691a240>"
            ]
          },
          "metadata": {
            "tags": []
          },
          "execution_count": 22
        },
        {
          "output_type": "display_data",
          "data": {
            "image/png": "[encoded data removed]",
            "text/plain": [
              "<Figure size 432x288 with 1 Axes>"
            ]
          },
          "metadata": {
            "tags": [],
            "needs_background": "light"
          }
        }
      ]
    },
    {
      "cell_type": "code",
      "metadata": {
        "colab": {
          "base_uri": "https://localhost:8080/",
          "height": 282
        },
        "id": "y9f7TLwH0f-N",
        "outputId": "71001e3d-f20d-4693-8af1-ffd7d46fedcf"
      },
      "source": [
        "#Ventas formales sin outliers\r\n",
        "cotas_Vformal=np.percentile(data_covid[-data_covid[\"Venta Formal\"].isnull()]['Venta Formal'],[1,80])\r\n",
        "cotas_Vformal\r\n",
        "data_covid.loc[data_covid[\"Venta Formal\"]>=cotas_Vformal[1],'Venta Formal']=cotas_Vformal[1]\r\n",
        "data_covid.loc[data_covid[\"Venta Formal\"]<=cotas_Vformal[0],'Venta Formal']=cotas_Vformal[0]\r\n",
        "data_covid[\"Venta Formal\"].plot.box()"
      ],
      "execution_count": 24,
      "outputs": [
        {
          "output_type": "execute_result",
          "data": {
            "text/plain": [
              "<matplotlib.axes._subplots.AxesSubplot at 0x7fc7b6502080>"
            ]
          },
          "metadata": {
            "tags": []
          },
          "execution_count": 24
        },
        {
          "output_type": "display_data",
          "data": {
            "image/png": "[encoded data removed]",
            "text/plain": [
              "<Figure size 432x288 with 1 Axes>"
            ]
          },
          "metadata": {
            "tags": [],
            "needs_background": "light"
          }
        }
      ]
    },
    {
      "cell_type": "code",
      "metadata": {
        "colab": {
          "base_uri": "https://localhost:8080/",
          "height": 294
        },
        "id": "rNUotAQf0n0D",
        "outputId": "5052a97a-97cf-4015-9145-287d2f4b59d4"
      },
      "source": [
        "# Pasivo_desembolso \r\n",
        "data_covid[\"Pasivo_desembolso\"].plot.box()"
      ],
      "execution_count": 25,
      "outputs": [
        {
          "output_type": "execute_result",
          "data": {
            "text/plain": [
              "<matplotlib.axes._subplots.AxesSubplot at 0x7fc7b659e7f0>"
            ]
          },
          "metadata": {
            "tags": []
          },
          "execution_count": 25
        },
        {
          "output_type": "display_data",
          "data": {
            "image/png": "[encoded data removed]",
            "text/plain": [
              "<Figure size 432x288 with 1 Axes>"
            ]
          },
          "metadata": {
            "tags": [],
            "needs_background": "light"
          }
        }
      ]
    },
    {
      "cell_type": "code",
      "metadata": {
        "colab": {
          "base_uri": "https://localhost:8080/",
          "height": 283
        },
        "id": "d3I8sZIT0zaG",
        "outputId": "fabf7b3b-4cb5-41ad-c5ad-fe546b55975f"
      },
      "source": [
        "#Pasivos_desembolso sin outliers\r\n",
        "cotas_Pasivo_desembolso=np.percentile(data_covid[-data_covid[\"Pasivo_desembolso\"].isnull()]['Pasivo_desembolso'],[1,80])\r\n",
        "cotas_Pasivo_desembolso \r\n",
        "data_covid.loc[data_covid[\"Pasivo_desembolso\"]>=cotas_Pasivo_desembolso[1],'Pasivo_desembolso']=cotas_Pasivo_desembolso[1]\r\n",
        "data_covid.loc[data_covid[\"Pasivo_desembolso\"]<=cotas_Pasivo_desembolso[0],'Pasivo_desembolso']=cotas_Pasivo_desembolso[0]\r\n",
        "data_covid[\"Pasivo_desembolso\"].plot.box()"
      ],
      "execution_count": 27,
      "outputs": [
        {
          "output_type": "execute_result",
          "data": {
            "text/plain": [
              "<matplotlib.axes._subplots.AxesSubplot at 0x7fc7b63bc710>"
            ]
          },
          "metadata": {
            "tags": []
          },
          "execution_count": 27
        },
        {
          "output_type": "display_data",
          "data": {
            "image/png": "[encoded data removed]",
            "text/plain": [
              "<Figure size 432x288 with 1 Axes>"
            ]
          },
          "metadata": {
            "tags": [],
            "needs_background": "light"
          }
        }
      ]
    },
    {
      "cell_type": "code",
      "metadata": {
        "colab": {
          "base_uri": "https://localhost:8080/",
          "height": 282
        },
        "id": "rOZxQE-j09gb",
        "outputId": "a7a21a26-51e3-4ee6-ed45-423370768480"
      },
      "source": [
        "#Deuda rezagada va\r\n",
        "data_covid[\"Deuda rezagada va\"].plot.box()"
      ],
      "execution_count": 34,
      "outputs": [
        {
          "output_type": "execute_result",
          "data": {
            "text/plain": [
              "<matplotlib.axes._subplots.AxesSubplot at 0x7fc7b6453d68>"
            ]
          },
          "metadata": {
            "tags": []
          },
          "execution_count": 34
        },
        {
          "output_type": "display_data",
          "data": {
            "image/png": "[encoded data removed]",
            "text/plain": [
              "<Figure size 432x288 with 1 Axes>"
            ]
          },
          "metadata": {
            "tags": [],
            "needs_background": "light"
          }
        }
      ]
    },
    {
      "cell_type": "code",
      "metadata": {
        "colab": {
          "base_uri": "https://localhost:8080/",
          "height": 282
        },
        "id": "4dnBG5ih1F_i",
        "outputId": "be42d0c7-78a5-4d0a-ca16-d53fb84b3646"
      },
      "source": [
        "#Deuda rezagada va sin outliers\r\n",
        "cotas_Drezagada_va=np.percentile(data_covid[-data_covid[\"Deuda rezagada va\"].isnull()]['Deuda rezagada va'],[1,90])\r\n",
        "cotas_Drezagada_va \r\n",
        "data_covid.loc[data_covid[\"Deuda rezagada va\"]>=cotas_Drezagada_va[1],'Deuda rezagada va']=cotas_Drezagada_va[1]\r\n",
        "data_covid.loc[data_covid[\"Deuda rezagada va\"]<=cotas_Drezagada_va[0],'Deuda rezagada va']=cotas_Drezagada_va[0]\r\n",
        "data_covid[\"Deuda rezagada va\"].plot.box()"
      ],
      "execution_count": 33,
      "outputs": [
        {
          "output_type": "execute_result",
          "data": {
            "text/plain": [
              "<matplotlib.axes._subplots.AxesSubplot at 0x7fc7b616cac8>"
            ]
          },
          "metadata": {
            "tags": []
          },
          "execution_count": 33
        },
        {
          "output_type": "display_data",
          "data": {
            "image/png": "[encoded data removed]",
            "text/plain": [
              "<Figure size 432x288 with 1 Axes>"
            ]
          },
          "metadata": {
            "tags": [],
            "needs_background": "light"
          }
        }
      ]
    },
    {
      "cell_type": "code",
      "metadata": {
        "colab": {
          "base_uri": "https://localhost:8080/",
          "height": 284
        },
        "id": "5RXsmBnf1j_D",
        "outputId": "7242a9cc-d228-4053-9ce2-66e7673341ed"
      },
      "source": [
        "#Deuda rezagada vr\r\n",
        "data_covid[\"Deuda rezagada vr\"].plot.box()"
      ],
      "execution_count": 35,
      "outputs": [
        {
          "output_type": "execute_result",
          "data": {
            "text/plain": [
              "<matplotlib.axes._subplots.AxesSubplot at 0x7fc7b639cc18>"
            ]
          },
          "metadata": {
            "tags": []
          },
          "execution_count": 35
        },
        {
          "output_type": "display_data",
          "data": {
            "image/png": "[encoded data removed]",
            "text/plain": [
              "<Figure size 432x288 with 1 Axes>"
            ]
          },
          "metadata": {
            "tags": [],
            "needs_background": "light"
          }
        }
      ]
    },
    {
      "cell_type": "code",
      "metadata": {
        "colab": {
          "base_uri": "https://localhost:8080/",
          "height": 286
        },
        "id": "Zua4NNRz1p_H",
        "outputId": "cacef59a-fe0f-41ee-c6bf-122806ffe14c"
      },
      "source": [
        "#Deuda rezagada var sin outliers\r\n",
        "cotas_Drezagada_vr=np.percentile(data_covid[-data_covid[\"Deuda rezagada vr\"].isnull()]['Deuda rezagada vr'],[1,90])\r\n",
        "cotas_Drezagada_vr \r\n",
        "data_covid.loc[data_covid[\"Deuda rezagada vr\"]>=cotas_Drezagada_vr[1],'Deuda rezagada vr']=cotas_Drezagada_vr[1]\r\n",
        "data_covid.loc[data_covid[\"Deuda rezagada vr\"]<=cotas_Drezagada_vr[0],'Deuda rezagada vr']=cotas_Drezagada_vr[0]\r\n",
        "data_covid[\"Deuda rezagada vr\"].plot.box()"
      ],
      "execution_count": 36,
      "outputs": [
        {
          "output_type": "execute_result",
          "data": {
            "text/plain": [
              "<matplotlib.axes._subplots.AxesSubplot at 0x7fc7b6079e48>"
            ]
          },
          "metadata": {
            "tags": []
          },
          "execution_count": 36
        },
        {
          "output_type": "display_data",
          "data": {
            "image/png": "[encoded data removed]",
            "text/plain": [
              "<Figure size 432x288 with 1 Axes>"
            ]
          },
          "metadata": {
            "tags": [],
            "needs_background": "light"
          }
        }
      ]
    },
    {
      "cell_type": "code",
      "metadata": {
        "colab": {
          "base_uri": "https://localhost:8080/",
          "height": 293
        },
        "id": "GLXVgaEE1wDe",
        "outputId": "6aa33f63-e93a-457a-f1a7-400371248931"
      },
      "source": [
        "#pasivo rezagada va\r\n",
        "data_covid[\"pasivo rezagada va\"].plot.box()"
      ],
      "execution_count": 37,
      "outputs": [
        {
          "output_type": "execute_result",
          "data": {
            "text/plain": [
              "<matplotlib.axes._subplots.AxesSubplot at 0x7fc7b609a780>"
            ]
          },
          "metadata": {
            "tags": []
          },
          "execution_count": 37
        },
        {
          "output_type": "display_data",
          "data": {
            "image/png": "[encoded data removed]",
            "text/plain": [
              "<Figure size 432x288 with 1 Axes>"
            ]
          },
          "metadata": {
            "tags": [],
            "needs_background": "light"
          }
        }
      ]
    },
    {
      "cell_type": "code",
      "metadata": {
        "colab": {
          "base_uri": "https://localhost:8080/",
          "height": 282
        },
        "id": "8GNXCveD100u",
        "outputId": "0e9d13f5-7976-4032-e7f1-d5601bf58b22"
      },
      "source": [
        "#Pasivo rezagada va sin outlieres\r\n",
        "cotas_prezagada_va=np.percentile(data_covid[-data_covid[\"pasivo rezagada va\"].isnull()]['pasivo rezagada va'],[1,90])\r\n",
        "cotas_prezagada_va \r\n",
        "data_covid.loc[data_covid[\"pasivo rezagada va\"]>=cotas_prezagada_va[1],'pasivo rezagada va']=cotas_prezagada_va[1]\r\n",
        "data_covid.loc[data_covid[\"pasivo rezagada va\"]<=cotas_prezagada_va[0],'pasivo rezagada va']=cotas_prezagada_va[0]\r\n",
        "data_covid[\"pasivo rezagada va\"].plot.box()"
      ],
      "execution_count": 38,
      "outputs": [
        {
          "output_type": "execute_result",
          "data": {
            "text/plain": [
              "<matplotlib.axes._subplots.AxesSubplot at 0x7fc7b5fdc710>"
            ]
          },
          "metadata": {
            "tags": []
          },
          "execution_count": 38
        },
        {
          "output_type": "display_data",
          "data": {
            "image/png": "[encoded data removed]",
            "text/plain": [
              "<Figure size 432x288 with 1 Axes>"
            ]
          },
          "metadata": {
            "tags": [],
            "needs_background": "light"
          }
        }
      ]
    },
    {
      "cell_type": "code",
      "metadata": {
        "colab": {
          "base_uri": "https://localhost:8080/",
          "height": 282
        },
        "id": "8F2rbDSH194R",
        "outputId": "dbdd9060-eb88-4413-a6b8-2c926cc7280f"
      },
      "source": [
        "#pasivo rezagada vr\r\n",
        "data_covid[\"pasivo rezagada vr\"].plot.box()"
      ],
      "execution_count": 39,
      "outputs": [
        {
          "output_type": "execute_result",
          "data": {
            "text/plain": [
              "<matplotlib.axes._subplots.AxesSubplot at 0x7fc7b5fde908>"
            ]
          },
          "metadata": {
            "tags": []
          },
          "execution_count": 39
        },
        {
          "output_type": "display_data",
          "data": {
            "image/png": "[encoded data removed]",
            "text/plain": [
              "<Figure size 432x288 with 1 Axes>"
            ]
          },
          "metadata": {
            "tags": [],
            "needs_background": "light"
          }
        }
      ]
    },
    {
      "cell_type": "code",
      "metadata": {
        "colab": {
          "base_uri": "https://localhost:8080/",
          "height": 282
        },
        "id": "vwYjm5Xl2E4m",
        "outputId": "6de323ff-6e7c-420a-8779-ad2ec0249fe7"
      },
      "source": [
        "#pasivo rezagada vr sin outliers\r\n",
        "cotas_prezagada_vr=np.percentile(data_covid[-data_covid[\"pasivo rezagada vr\"].isnull()]['pasivo rezagada vr'],[1,90])\r\n",
        "cotas_prezagada_va \r\n",
        "data_covid.loc[data_covid[\"pasivo rezagada vr\"]>=cotas_prezagada_vr[1],'pasivo rezagada vr']=cotas_prezagada_vr[1]\r\n",
        "data_covid.loc[data_covid[\"pasivo rezagada vr\"]<=cotas_prezagada_vr[0],'pasivo rezagada vr']=cotas_prezagada_vr[0]\r\n",
        "data_covid[\"pasivo rezagada vr\"].plot.box()"
      ],
      "execution_count": 40,
      "outputs": [
        {
          "output_type": "execute_result",
          "data": {
            "text/plain": [
              "<matplotlib.axes._subplots.AxesSubplot at 0x7fc7b5f1d278>"
            ]
          },
          "metadata": {
            "tags": []
          },
          "execution_count": 40
        },
        {
          "output_type": "display_data",
          "data": {
            "image/png": "[encoded data removed]",
            "text/plain": [
              "<Figure size 432x288 with 1 Axes>"
            ]
          },
          "metadata": {
            "tags": [],
            "needs_background": "light"
          }
        }
      ]
    },
    {
      "cell_type": "code",
      "metadata": {
        "colab": {
          "base_uri": "https://localhost:8080/",
          "height": 294
        },
        "id": "R32Scv8s2Nww",
        "outputId": "8e47bc18-57ff-4530-c336-a66b5d7fff4b"
      },
      "source": [
        "#Pasivo_desembolso da\r\n",
        "data_covid[\"Pasivo_desembolso da\"].plot.box()"
      ],
      "execution_count": 41,
      "outputs": [
        {
          "output_type": "execute_result",
          "data": {
            "text/plain": [
              "<matplotlib.axes._subplots.AxesSubplot at 0x7fc7b5f230b8>"
            ]
          },
          "metadata": {
            "tags": []
          },
          "execution_count": 41
        },
        {
          "output_type": "display_data",
          "data": {
            "image/png": "[encoded data removed]",
            "text/plain": [
              "<Figure size 432x288 with 1 Axes>"
            ]
          },
          "metadata": {
            "tags": [],
            "needs_background": "light"
          }
        }
      ]
    },
    {
      "cell_type": "code",
      "metadata": {
        "colab": {
          "base_uri": "https://localhost:8080/",
          "height": 283
        },
        "id": "6bNeKut_2ShB",
        "outputId": "97140129-5043-4105-df04-4964922c0b9d"
      },
      "source": [
        "#Pasivo_desembolso da sin outliers\r\n",
        "cotas_pdesembolso_da=np.percentile(data_covid[-data_covid[\"Pasivo_desembolso da\"].isnull()]['Pasivo_desembolso da'],[1,90])\r\n",
        "cotas_pdesembolso_da \r\n",
        "data_covid.loc[data_covid[\"Pasivo_desembolso da\"]>=cotas_pdesembolso_da[1],'Pasivo_desembolso da']=cotas_pdesembolso_da[1]\r\n",
        "data_covid.loc[data_covid[\"Pasivo_desembolso da\"]<=cotas_pdesembolso_da[0],'Pasivo_desembolso da']=cotas_pdesembolso_da[0]\r\n",
        "data_covid[\"Pasivo_desembolso da\"].plot.box()"
      ],
      "execution_count": 42,
      "outputs": [
        {
          "output_type": "execute_result",
          "data": {
            "text/plain": [
              "<matplotlib.axes._subplots.AxesSubplot at 0x7fc7b5e58978>"
            ]
          },
          "metadata": {
            "tags": []
          },
          "execution_count": 42
        },
        {
          "output_type": "display_data",
          "data": {
            "image/png": "[encoded data removed]",
            "text/plain": [
              "<Figure size 432x288 with 1 Axes>"
            ]
          },
          "metadata": {
            "tags": [],
            "needs_background": "light"
          }
        }
      ]
    },
    {
      "cell_type": "code",
      "metadata": {
        "colab": {
          "base_uri": "https://localhost:8080/",
          "height": 283
        },
        "id": "VWwipgAJ2ZxI",
        "outputId": "65218d4f-eb3f-4e8c-f6e2-bdb406d45924"
      },
      "source": [
        "#Pasivo_desembolso dr\r\n",
        "data_covid[\"Pasivo_desembolso dr\"].plot.box()"
      ],
      "execution_count": 43,
      "outputs": [
        {
          "output_type": "execute_result",
          "data": {
            "text/plain": [
              "<matplotlib.axes._subplots.AxesSubplot at 0x7fc7b5defd68>"
            ]
          },
          "metadata": {
            "tags": []
          },
          "execution_count": 43
        },
        {
          "output_type": "display_data",
          "data": {
            "image/png": "[encoded data removed]",
            "text/plain": [
              "<Figure size 432x288 with 1 Axes>"
            ]
          },
          "metadata": {
            "tags": [],
            "needs_background": "light"
          }
        }
      ]
    },
    {
      "cell_type": "code",
      "metadata": {
        "colab": {
          "base_uri": "https://localhost:8080/",
          "height": 287
        },
        "id": "DEN5AmwP2iK7",
        "outputId": "62127b5f-d908-4d0e-907d-ac116a335ba4"
      },
      "source": [
        "#Pasivo_desembolso dr sin outliers\r\n",
        "cotas_pdesembolso_dr=np.percentile(data_covid[-data_covid[\"Pasivo_desembolso dr\"].isnull()]['Pasivo_desembolso dr'],[1,90])\r\n",
        "cotas_pdesembolso_dr \r\n",
        "data_covid.loc[data_covid[\"Pasivo_desembolso dr\"]>=cotas_pdesembolso_dr[1],'Pasivo_desembolso dr']=cotas_pdesembolso_dr[1]\r\n",
        "data_covid.loc[data_covid[\"Pasivo_desembolso dr\"]<=cotas_pdesembolso_dr[0],'Pasivo_desembolso dr']=cotas_pdesembolso_dr[0]\r\n",
        "data_covid[\"Pasivo_desembolso dr\"].plot.box()"
      ],
      "execution_count": 44,
      "outputs": [
        {
          "output_type": "execute_result",
          "data": {
            "text/plain": [
              "<matplotlib.axes._subplots.AxesSubplot at 0x7fc7b5d30780>"
            ]
          },
          "metadata": {
            "tags": []
          },
          "execution_count": 44
        },
        {
          "output_type": "display_data",
          "data": {
            "image/png": "[encoded data removed]",
            "text/plain": [
              "<Figure size 432x288 with 1 Axes>"
            ]
          },
          "metadata": {
            "tags": [],
            "needs_background": "light"
          }
        }
      ]
    },
    {
      "cell_type": "code",
      "metadata": {
        "colab": {
          "base_uri": "https://localhost:8080/"
        },
        "id": "8-c7kacZ2pr7",
        "outputId": "32ac2d2e-2acb-485b-be5b-b0f44c8631ee"
      },
      "source": [
        "#Tratamiento de variables categóricas con get_dummmies\r\n",
        "#variables categoricas Sector y dep\r\n",
        "dummy_sector = pd.get_dummies(data_covid[\"Sector\"], prefix=\"sec\")\r\n",
        "dummy_dep = pd.get_dummies(data_covid[\"Dep\"], prefix=\"dep\")\r\n",
        "print(dummy_sector)\r\n",
        "print(dummy_dep)\r\n"
      ],
      "execution_count": 45,
      "outputs": [
        {
          "output_type": "stream",
          "text": [
            "      sec_COMERCIO  sec_INDUSTRIA  sec_SERVICIO\n",
            "0                0              1             0\n",
            "1                1              0             0\n",
            "2                0              0             1\n",
            "3                0              1             0\n",
            "4                1              0             0\n",
            "...            ...            ...           ...\n",
            "1993             1              0             0\n",
            "1994             1              0             0\n",
            "1995             1              0             0\n",
            "1996             1              0             0\n",
            "1997             0              0             1\n",
            "\n",
            "[1998 rows x 3 columns]\n",
            "      dep_Amazonas  dep_Apurímac  ...  dep_Ucayali  dep_Áncash\n",
            "0                0             0  ...            0           0\n",
            "1                0             0  ...            0           0\n",
            "2                1             0  ...            0           0\n",
            "3                0             0  ...            0           0\n",
            "4                0             0  ...            0           0\n",
            "...            ...           ...  ...          ...         ...\n",
            "1993             0             0  ...            0           0\n",
            "1994             0             0  ...            0           0\n",
            "1995             0             0  ...            0           0\n",
            "1996             0             0  ...            0           0\n",
            "1997             0             0  ...            0           0\n",
            "\n",
            "[1998 rows x 25 columns]\n"
          ],
          "name": "stdout"
        }
      ]
    },
    {
      "cell_type": "code",
      "metadata": {
        "colab": {
          "base_uri": "https://localhost:8080/"
        },
        "id": "YxUlBTlE3NtQ",
        "outputId": "48e5ea0d-f920-40d9-ebb4-e69b6a6956f6"
      },
      "source": [
        "#concatenando en la tabla las variables categóricas transformadas\r\n",
        "data2=pd.concat([data_covid,dummy_sector,dummy_dep],axis=1)\r\n",
        "data2.head"
      ],
      "execution_count": 47,
      "outputs": [
        {
          "output_type": "execute_result",
          "data": {
            "text/plain": [
              "<bound method NDFrame.head of          Sector         Dep  Impactado  ...  dep_Tumbes  dep_Ucayali  dep_Áncash\n",
              "0     INDUSTRIA        Lima          0  ...           0            0           0\n",
              "1      COMERCIO    Arequipa          0  ...           0            0           0\n",
              "2      SERVICIO    Amazonas          0  ...           0            0           0\n",
              "3     INDUSTRIA        Lima          0  ...           0            0           0\n",
              "4      COMERCIO       Cusco          0  ...           0            0           0\n",
              "...         ...         ...        ...  ...         ...          ...         ...\n",
              "1993   COMERCIO  Lambayeque          1  ...           0            0           0\n",
              "1994   COMERCIO    Arequipa          1  ...           0            0           0\n",
              "1995   COMERCIO        Lima          1  ...           0            0           0\n",
              "1996   COMERCIO        Lima          1  ...           0            0           0\n",
              "1997   SERVICIO    Arequipa          1  ...           0            0           0\n",
              "\n",
              "[1998 rows x 47 columns]>"
            ]
          },
          "metadata": {
            "tags": []
          },
          "execution_count": 47
        }
      ]
    },
    {
      "cell_type": "code",
      "metadata": {
        "colab": {
          "base_uri": "https://localhost:8080/"
        },
        "id": "NgfLZnbO3rDx",
        "outputId": "5a639fa8-5cbd-4a3c-bd9b-b073b5c45b78"
      },
      "source": [
        "data2.columns"
      ],
      "execution_count": 48,
      "outputs": [
        {
          "output_type": "execute_result",
          "data": {
            "text/plain": [
              "Index(['Sector', 'Dep', 'Impactado', 'Saldo', 'Desembolso_mes',\n",
              "       'Saldo Promedio', 'Deuda Sistea,', 'Pasivo', 'Turismo',\n",
              "       'Sector de Impacto', 'Venta ', 'Venta Formal', 'Pasivo_desembolso',\n",
              "       'Deuda rezagada va', 'Deuda rezagada vr', 'pasivo rezagada va',\n",
              "       'pasivo rezagada vr', 'Pasivo_desembolso da', 'Pasivo_desembolso dr',\n",
              "       'sec_COMERCIO', 'sec_INDUSTRIA', 'sec_SERVICIO', 'dep_Amazonas',\n",
              "       'dep_Apurímac', 'dep_Arequipa', 'dep_Ayacucho', 'dep_Cajamarca',\n",
              "       'dep_Callao', 'dep_Cusco', 'dep_Huancavelica', 'dep_Huánuco', 'dep_Ica',\n",
              "       'dep_Junín', 'dep_La Libertad', 'dep_Lambayeque', 'dep_Lima',\n",
              "       'dep_Loreto', 'dep_Madre de Dios', 'dep_Moquegua', 'dep_Pasco',\n",
              "       'dep_Piura', 'dep_Puno', 'dep_San Martín', 'dep_Tacna', 'dep_Tumbes',\n",
              "       'dep_Ucayali', 'dep_Áncash'],\n",
              "      dtype='object')"
            ]
          },
          "metadata": {
            "tags": []
          },
          "execution_count": 48
        }
      ]
    },
    {
      "cell_type": "code",
      "metadata": {
        "colab": {
          "base_uri": "https://localhost:8080/"
        },
        "id": "mjvoCZSF3xw5",
        "outputId": "6cded000-d477-44f6-87ac-b74659cd70af"
      },
      "source": [
        "# Separando data en X e y para el modelo \r\n",
        "X2=data2\r\n",
        "X2=X2.drop(['Sector','Dep','Impactado'], axis=1)\r\n",
        "X2.head"
      ],
      "execution_count": 65,
      "outputs": [
        {
          "output_type": "execute_result",
          "data": {
            "text/plain": [
              "<bound method NDFrame.head of              Saldo  Desembolso_mes  ...  dep_Ucayali  dep_Áncash\n",
              "0      56643.10092             0.0  ...            0           0\n",
              "1     190313.99460             0.0  ...            0           0\n",
              "2     547601.57360             0.0  ...            0           0\n",
              "3     283914.20840             0.0  ...            0           0\n",
              "4     142296.43840             0.0  ...            0           0\n",
              "...            ...             ...  ...          ...         ...\n",
              "1993    4325.85076             0.0  ...            0           0\n",
              "1994   94650.62631             0.0  ...            0           0\n",
              "1995  747579.33510             0.0  ...            0           0\n",
              "1996   18077.98187             0.0  ...            0           0\n",
              "1997  286471.03470             0.0  ...            0           0\n",
              "\n",
              "[1998 rows x 44 columns]>"
            ]
          },
          "metadata": {
            "tags": []
          },
          "execution_count": 65
        }
      ]
    },
    {
      "cell_type": "code",
      "metadata": {
        "colab": {
          "base_uri": "https://localhost:8080/"
        },
        "id": "fyWW6vBT5P0O",
        "outputId": "e837a137-80da-4ca4-a486-85d1138e7459"
      },
      "source": [
        "Y2=data2[\"Impactado\"]\r\n",
        "Y2.head"
      ],
      "execution_count": 66,
      "outputs": [
        {
          "output_type": "execute_result",
          "data": {
            "text/plain": [
              "<bound method NDFrame.head of 0       0\n",
              "1       0\n",
              "2       0\n",
              "3       0\n",
              "4       0\n",
              "       ..\n",
              "1993    1\n",
              "1994    1\n",
              "1995    1\n",
              "1996    1\n",
              "1997    1\n",
              "Name: Impactado, Length: 1998, dtype: int64>"
            ]
          },
          "metadata": {
            "tags": []
          },
          "execution_count": 66
        }
      ]
    },
    {
      "cell_type": "code",
      "metadata": {
        "colab": {
          "base_uri": "https://localhost:8080/"
        },
        "id": "H7YpC-GC5UAW",
        "outputId": "229d854f-dbed-4f0a-c5b2-80adf2ab6c13"
      },
      "source": [
        "#Modelo con regresión logística\r\n",
        "# Separando en train y test\r\n",
        "from sklearn.model_selection import train_test_split\r\n",
        "Xtrain,Xtest,Ytrain,Ytest=train_test_split(X2,Y2,test_size=0.2,\r\n",
        "                                           random_state=4)\r\n",
        "\r\n",
        "#Escalando variables\r\n",
        "from sklearn import preprocessing\r\n",
        "scaler = preprocessing.StandardScaler().fit(Xtrain)\r\n",
        "X_scaled = scaler.transform(Xtrain)\r\n",
        "\r\n",
        "from sklearn import linear_model\r\n",
        "logit_model = linear_model.LogisticRegression()\r\n",
        "logit_model.fit(X_scaled,Ytrain)\r\n",
        "\r\n",
        "#Accuracy del modelo\r\n",
        "print(logit_model.score(X_scaled,Ytrain))"
      ],
      "execution_count": 69,
      "outputs": [
        {
          "output_type": "stream",
          "text": [
            "0.6408010012515645\n"
          ],
          "name": "stdout"
        }
      ]
    },
    {
      "cell_type": "code",
      "metadata": {
        "colab": {
          "base_uri": "https://localhost:8080/"
        },
        "id": "C23CiuWO9Adk",
        "outputId": "4546c3f8-b13d-409d-c80c-43de8505a09e"
      },
      "source": [
        "#coeficientes de cada uno de los parámetros en el modelo\r\n",
        "print(pd.DataFrame(list(zip(X2.columns, np.transpose(logit_model.coef_)))))"
      ],
      "execution_count": 71,
      "outputs": [
        {
          "output_type": "stream",
          "text": [
            "                       0                        1\n",
            "0                  Saldo    [0.10348681164665553]\n",
            "1         Desembolso_mes                    [0.0]\n",
            "2         Saldo Promedio    [0.14510836693709922]\n",
            "3          Deuda Sistea,    [0.28372884322513753]\n",
            "4                 Pasivo   [-0.27423399192287334]\n",
            "5                Turismo    [0.07590213011689094]\n",
            "6      Sector de Impacto    [0.16844016420490648]\n",
            "7                 Venta    [-0.21268780691268968]\n",
            "8           Venta Formal   [-0.20444955179938223]\n",
            "9      Pasivo_desembolso    [0.03671054705080402]\n",
            "10     Deuda rezagada va   [-0.10263635207146102]\n",
            "11     Deuda rezagada vr    [0.08765427404961718]\n",
            "12    pasivo rezagada va     [0.0981332074983104]\n",
            "13    pasivo rezagada vr   [-0.21974215913593753]\n",
            "14  Pasivo_desembolso da  [-0.047888081396415906]\n",
            "15  Pasivo_desembolso dr    [0.12289065653478452]\n",
            "16          sec_COMERCIO   [-0.10393036847733958]\n",
            "17         sec_INDUSTRIA    [0.09483374006203334]\n",
            "18          sec_SERVICIO    [0.04247386116941683]\n",
            "19          dep_Amazonas   [0.012863013215811108]\n",
            "20          dep_Apurímac    [0.14954790152223055]\n",
            "21          dep_Arequipa    [-0.1278384632473482]\n",
            "22          dep_Ayacucho   [0.024674796644074338]\n",
            "23         dep_Cajamarca    [0.10341534120124736]\n",
            "24            dep_Callao   [-0.03689215524120929]\n",
            "25             dep_Cusco    [0.11349295382429893]\n",
            "26      dep_Huancavelica    [0.16671364513084755]\n",
            "27           dep_Huánuco   [0.012726740258415182]\n",
            "28               dep_Ica  [-0.037670204999812204]\n",
            "29             dep_Junín   [-0.07048395725944519]\n",
            "30       dep_La Libertad    [0.01584312944584757]\n",
            "31        dep_Lambayeque   [-0.07798548757985325]\n",
            "32              dep_Lima    [-0.0176792754255166]\n",
            "33            dep_Loreto   [0.028924932291753244]\n",
            "34     dep_Madre de Dios    [0.07380528445590014]\n",
            "35          dep_Moquegua   [-0.19381847512504877]\n",
            "36             dep_Pasco   [-0.03238395844482619]\n",
            "37             dep_Piura   [-0.19684618327883427]\n",
            "38              dep_Puno   [-0.03890850462748364]\n",
            "39        dep_San Martín    [0.06495438740480913]\n",
            "40             dep_Tacna   [0.019122242369269536]\n",
            "41            dep_Tumbes    [0.15310010843992578]\n",
            "42           dep_Ucayali    [0.14237929292337603]\n",
            "43            dep_Áncash    [0.18945895413240307]\n"
          ],
          "name": "stdout"
        }
      ]
    },
    {
      "cell_type": "code",
      "metadata": {
        "colab": {
          "base_uri": "https://localhost:8080/"
        },
        "id": "RgYmeu239gmk",
        "outputId": "c5aca844-53ec-44a1-bc9d-d8b3a42516db"
      },
      "source": [
        "def Gini(y_true,y_pred,signo='+'):\r\n",
        "    from sklearn.metrics import roc_auc_score\r\n",
        "    return 2*roc_auc_score(y_true, y_pred)-1\r\n",
        "\r\n",
        "#Determinando las probabilidades obtener target impactado según el modelo\r\n",
        "probs = logit_model.predict_proba(X_scaled)[:,1:]\r\n",
        "m=pd.DataFrame(probs,columns = ['Probs'])\r\n",
        "print(m)"
      ],
      "execution_count": 72,
      "outputs": [
        {
          "output_type": "stream",
          "text": [
            "         Probs\n",
            "0     0.380902\n",
            "1     0.358538\n",
            "2     0.950352\n",
            "3     0.388533\n",
            "4     0.362106\n",
            "...        ...\n",
            "1593  0.558198\n",
            "1594  0.651805\n",
            "1595  0.698869\n",
            "1596  0.564012\n",
            "1597  0.275611\n",
            "\n",
            "[1598 rows x 1 columns]\n"
          ],
          "name": "stdout"
        }
      ]
    },
    {
      "cell_type": "code",
      "metadata": {
        "colab": {
          "base_uri": "https://localhost:8080/"
        },
        "id": "H82qHbjq9i-x",
        "outputId": "6d5979d7-bff5-4bf5-fa46-9606d402f0fd"
      },
      "source": [
        "ytrain2=Ytrain.reset_index()\r\n",
        "ytrain2['Probs']=m\r\n",
        "print(ytrain2)"
      ],
      "execution_count": 73,
      "outputs": [
        {
          "output_type": "stream",
          "text": [
            "      index  Impactado     Probs\n",
            "0       875          0  0.380902\n",
            "1      1222          1  0.358538\n",
            "2      1727          1  0.950352\n",
            "3       362          0  0.388533\n",
            "4       890          0  0.362106\n",
            "...     ...        ...       ...\n",
            "1593   1921          1  0.558198\n",
            "1594    709          0  0.651805\n",
            "1595    439          0  0.698869\n",
            "1596    174          0  0.564012\n",
            "1597   1146          1  0.275611\n",
            "\n",
            "[1598 rows x 3 columns]\n"
          ],
          "name": "stdout"
        },
        {
          "output_type": "execute_result",
          "data": {
            "text/plain": [
              "0.40715735786162743"
            ]
          },
          "metadata": {
            "tags": []
          },
          "execution_count": 73
        }
      ]
    },
    {
      "cell_type": "code",
      "metadata": {
        "colab": {
          "base_uri": "https://localhost:8080/"
        },
        "id": "G2xfbfwt-C-D",
        "outputId": "a8862833-a177-4910-b4dc-3431a6b9db69"
      },
      "source": [
        "1*Gini(ytrain2[\"Impactado\"],ytrain2[\"Probs\"])\r\n",
        "#Estandares: Gini>0.5 Bueno | 0.4<=Gini<=0.5 Aceptable | Gini<0.4 No es tan bueno"
      ],
      "execution_count": 74,
      "outputs": [
        {
          "output_type": "execute_result",
          "data": {
            "text/plain": [
              "0.40715735786162743"
            ]
          },
          "metadata": {
            "tags": []
          },
          "execution_count": 74
        }
      ]
    },
    {
      "cell_type": "code",
      "metadata": {
        "id": "ojW_6Efs-F1D"
      },
      "source": [
        "#Gini aceptable"
      ],
      "execution_count": null,
      "outputs": []
    },
    {
      "cell_type": "code",
      "metadata": {
        "id": "arOP6By5-Y66"
      },
      "source": [
        "pip install plot_metric"
      ],
      "execution_count": null,
      "outputs": []
    },
    {
      "cell_type": "code",
      "metadata": {
        "colab": {
          "base_uri": "https://localhost:8080/",
          "height": 350
        },
        "id": "EeN_Ucb6-OeM",
        "outputId": "d3247f0e-e291-475e-f63c-6ce73e3a53a3"
      },
      "source": [
        "# Visualisación con plot_metric\r\n",
        "\r\n",
        "from plot_metric.functions import BinaryClassification\r\n",
        "import matplotlib.pyplot as plt\r\n",
        "bc = BinaryClassification(ytrain2[\"Impactado\"], ytrain2[\"Probs\"], labels=[\"Class 1\", \"Class 2\"])\r\n",
        "\r\n",
        "# Figures\r\n",
        "plt.figure(figsize=(5,5))\r\n",
        "bc.plot_roc_curve()\r\n",
        "plt.show()\r\n"
      ],
      "execution_count": 79,
      "outputs": [
        {
          "output_type": "display_data",
          "data": {
            "image/png": "[encoded data removed]",
            "text/plain": [
              "<Figure size 360x360 with 1 Axes>"
            ]
          },
          "metadata": {
            "tags": []
          }
        }
      ]
    },
    {
      "cell_type": "code",
      "metadata": {
        "colab": {
          "base_uri": "https://localhost:8080/"
        },
        "id": "UM0fqvAj-phA",
        "outputId": "fad44d3a-630a-4eb0-c19b-ead0cbb2e59d"
      },
      "source": [
        "#Fijando threshold=0.5 para elaborar matriz de confusión\r\n",
        "threshold = 0.5\r\n",
        "ytrain2[\"prediction\"]=np.where(probs>threshold, 1, 0)\r\n",
        "ytrain2.head"
      ],
      "execution_count": 82,
      "outputs": [
        {
          "output_type": "execute_result",
          "data": {
            "text/plain": [
              "<bound method NDFrame.head of       index  Impactado     Probs  prediction\n",
              "0       875          0  0.380902           0\n",
              "1      1222          1  0.358538           0\n",
              "2      1727          1  0.950352           1\n",
              "3       362          0  0.388533           0\n",
              "4       890          0  0.362106           0\n",
              "...     ...        ...       ...         ...\n",
              "1593   1921          1  0.558198           1\n",
              "1594    709          0  0.651805           1\n",
              "1595    439          0  0.698869           1\n",
              "1596    174          0  0.564012           1\n",
              "1597   1146          1  0.275611           0\n",
              "\n",
              "[1598 rows x 4 columns]>"
            ]
          },
          "metadata": {
            "tags": []
          },
          "execution_count": 82
        }
      ]
    },
    {
      "cell_type": "code",
      "metadata": {
        "colab": {
          "base_uri": "https://localhost:8080/",
          "height": 142
        },
        "id": "wp0W5idR_ENV",
        "outputId": "9090fc30-fee2-477c-f4fb-84d000edfa73"
      },
      "source": [
        "confusion_matrix = pd.crosstab(ytrain2.prediction, ytrain2.Impactado)\r\n",
        "confusion_matrix"
      ],
      "execution_count": 83,
      "outputs": [
        {
          "output_type": "execute_result",
          "data": {
            "text/html": [
              "<div>\n",
              "<style scoped>\n",
              "    .dataframe tbody tr th:only-of-type {\n",
              "        vertical-align: middle;\n",
              "    }\n",
              "\n",
              "    .dataframe tbody tr th {\n",
              "        vertical-align: top;\n",
              "    }\n",
              "\n",
              "    .dataframe thead th {\n",
              "        text-align: right;\n",
              "    }\n",
              "</style>\n",
              "<table border=\"1\" class=\"dataframe\">\n",
              "  <thead>\n",
              "    <tr style=\"text-align: right;\">\n",
              "      <th>Impactado</th>\n",
              "      <th>0</th>\n",
              "      <th>1</th>\n",
              "    </tr>\n",
              "    <tr>\n",
              "      <th>prediction</th>\n",
              "      <th></th>\n",
              "      <th></th>\n",
              "    </tr>\n",
              "  </thead>\n",
              "  <tbody>\n",
              "    <tr>\n",
              "      <th>0</th>\n",
              "      <td>521</td>\n",
              "      <td>299</td>\n",
              "    </tr>\n",
              "    <tr>\n",
              "      <th>1</th>\n",
              "      <td>275</td>\n",
              "      <td>503</td>\n",
              "    </tr>\n",
              "  </tbody>\n",
              "</table>\n",
              "</div>"
            ],
            "text/plain": [
              "Impactado     0    1\n",
              "prediction          \n",
              "0           521  299\n",
              "1           275  503"
            ]
          },
          "metadata": {
            "tags": []
          },
          "execution_count": 83
        }
      ]
    },
    {
      "cell_type": "code",
      "metadata": {
        "colab": {
          "base_uri": "https://localhost:8080/"
        },
        "id": "6k3FrsYU_BLf",
        "outputId": "53636c53-48d0-4521-9d77-1a4adc580c1a"
      },
      "source": [
        "TN=confusion_matrix[0][0]\r\n",
        "TP=confusion_matrix[1][1]\r\n",
        "FN=confusion_matrix[0][1]\r\n",
        "FP=confusion_matrix[1][0]\r\n",
        "final=(TP+TN)/(TN+TP+FN+FP)\r\n",
        "final"
      ],
      "execution_count": 85,
      "outputs": [
        {
          "output_type": "execute_result",
          "data": {
            "text/plain": [
              "0.6408010012515645"
            ]
          },
          "metadata": {
            "tags": []
          },
          "execution_count": 85
        }
      ]
    },
    {
      "cell_type": "code",
      "metadata": {
        "colab": {
          "base_uri": "https://localhost:8080/"
        },
        "id": "OJCfCbvJ_PG5",
        "outputId": "1be1b394-3429-47c5-eaf5-32d3343fb7b7"
      },
      "source": [
        "sens = TP/(TP+FN)\r\n",
        "sens"
      ],
      "execution_count": 86,
      "outputs": [
        {
          "output_type": "execute_result",
          "data": {
            "text/plain": [
              "0.6465295629820051"
            ]
          },
          "metadata": {
            "tags": []
          },
          "execution_count": 86
        }
      ]
    },
    {
      "cell_type": "code",
      "metadata": {
        "colab": {
          "base_uri": "https://localhost:8080/"
        },
        "id": "eTexCyhU_SYx",
        "outputId": "b38719c4-b21d-4d00-f31c-ec2c8baed041"
      },
      "source": [
        "espc_1 = 1-TN/(TN+FP)\r\n",
        "espc_1"
      ],
      "execution_count": 87,
      "outputs": [
        {
          "output_type": "execute_result",
          "data": {
            "text/plain": [
              "0.3646341463414634"
            ]
          },
          "metadata": {
            "tags": []
          },
          "execution_count": 87
        }
      ]
    },
    {
      "cell_type": "code",
      "metadata": {
        "colab": {
          "base_uri": "https://localhost:8080/"
        },
        "id": "o-4cGUHE_VuS",
        "outputId": "470e211e-aea4-4008-bbbc-c23f6494ba21"
      },
      "source": [
        "#Modelo de Clasificación de Arboles de Decisión\r\n",
        "\r\n",
        "#Definiendo variables predictoras y target\r\n",
        "\r\n",
        "colnames = data_covid.columns.values.tolist()\r\n",
        "colnames2=colnames.remove(\"Impactado\")\r\n",
        "data_covid['Impactado'] = data_covid['Impactado'].astype(str)\r\n",
        "\r\n",
        "predictors = colnames\r\n",
        "#variable predictora\r\n",
        "X=data_covid[predictors]\r\n",
        "X.head"
      ],
      "execution_count": 92,
      "outputs": [
        {
          "output_type": "execute_result",
          "data": {
            "text/plain": [
              "<bound method NDFrame.head of          Sector         Dep  ...  Pasivo_desembolso da  Pasivo_desembolso dr\n",
              "0     INDUSTRIA        Lima  ...                830.82              0.164649\n",
              "1      COMERCIO    Arequipa  ...              -7043.43             -0.611896\n",
              "2      SERVICIO    Amazonas  ...               2000.92              0.666973\n",
              "3     INDUSTRIA        Lima  ...             -17128.30             -0.981351\n",
              "4      COMERCIO       Cusco  ...              -2071.80             -1.000000\n",
              "...         ...         ...  ...                   ...                   ...\n",
              "1993   COMERCIO  Lambayeque  ...              -2548.50             -0.543144\n",
              "1994   COMERCIO    Arequipa  ...             -10965.03             -0.783524\n",
              "1995   COMERCIO        Lima  ...             -11589.60             -0.951247\n",
              "1996   COMERCIO        Lima  ...             -18929.55             -0.780851\n",
              "1997   SERVICIO    Arequipa  ...              -2548.50             -0.543144\n",
              "\n",
              "[1998 rows x 18 columns]>"
            ]
          },
          "metadata": {
            "tags": []
          },
          "execution_count": 92
        }
      ]
    },
    {
      "cell_type": "code",
      "metadata": {
        "colab": {
          "base_uri": "https://localhost:8080/"
        },
        "id": "n475T80_Adms",
        "outputId": "c9d5e86a-0c57-4ae6-e546-44567585603f"
      },
      "source": [
        "#Variable target\r\n",
        "Y=data_covid['Impactado']\r\n",
        "Y.head"
      ],
      "execution_count": 93,
      "outputs": [
        {
          "output_type": "execute_result",
          "data": {
            "text/plain": [
              "<bound method NDFrame.head of 0       0\n",
              "1       0\n",
              "2       0\n",
              "3       0\n",
              "4       0\n",
              "       ..\n",
              "1993    1\n",
              "1994    1\n",
              "1995    1\n",
              "1996    1\n",
              "1997    1\n",
              "Name: Impactado, Length: 1998, dtype: object>"
            ]
          },
          "metadata": {
            "tags": []
          },
          "execution_count": 93
        }
      ]
    },
    {
      "cell_type": "code",
      "metadata": {
        "colab": {
          "base_uri": "https://localhost:8080/"
        },
        "id": "IFZ4JV4-AlpI",
        "outputId": "9daa25cd-f6cc-4e1d-f114-60bb5d7afb7c"
      },
      "source": [
        "#Cofigurando el modelo de arboles de decisión\r\n",
        "from sklearn.tree import DecisionTreeClassifier\r\n",
        "tree_f = DecisionTreeClassifier(criterion=\"entropy\", min_samples_split=20,\r\n",
        "                                random_state=99,min_samples_leaf=5)\r\n",
        "#Ajustando el modelo a las data de entrenamiento\r\n",
        "tree_f.fit(Xtrain,Ytrain)\r\n",
        "#Prediciendo \r\n",
        "preds = tree_f.predict(Xtest)\r\n",
        "print(pd.crosstab(Ytest, preds, rownames=[\"Actual\"], colnames=[\"Predictions\"]))\r\n"
      ],
      "execution_count": 95,
      "outputs": [
        {
          "output_type": "stream",
          "text": [
            "Predictions    0   1\n",
            "Actual              \n",
            "0            127  76\n",
            "1            105  92\n"
          ],
          "name": "stdout"
        }
      ]
    },
    {
      "cell_type": "code",
      "metadata": {
        "colab": {
          "base_uri": "https://localhost:8080/"
        },
        "id": "5MFbXstEEGji",
        "outputId": "136b43bf-b318-487b-a299-44b4ee2df262"
      },
      "source": [
        "#Cross Validation para la poda\r\n",
        "\r\n",
        "tree = DecisionTreeClassifier(criterion=\"entropy\", max_depth=5, min_samples_split=20, random_state=99)\r\n",
        "tree.fit(Xtrain,Ytrain)\r\n",
        "\r\n",
        "from sklearn.model_selection import cross_val_score\r\n",
        "\r\n",
        "scores = cross_val_score(tree, Xtrain, Ytrain, scoring=\"accuracy\", cv = 10, n_jobs=1)\r\n",
        "scores"
      ],
      "execution_count": 100,
      "outputs": [
        {
          "output_type": "execute_result",
          "data": {
            "text/plain": [
              "array([0.575     , 0.5875    , 0.63125   , 0.6       , 0.60625   ,\n",
              "       0.6       , 0.56875   , 0.60625   , 0.50943396, 0.52201258])"
            ]
          },
          "metadata": {
            "tags": []
          },
          "execution_count": 100
        }
      ]
    },
    {
      "cell_type": "code",
      "metadata": {
        "colab": {
          "base_uri": "https://localhost:8080/"
        },
        "id": "adbVrZ1REYCF",
        "outputId": "0badc737-3d9b-48d3-f1af-0bc6bc1345db"
      },
      "source": [
        "#Accuracy promedio del modelo de Arboles de Decisión\r\n",
        "score = np.mean(scores)\r\n",
        "score"
      ],
      "execution_count": 102,
      "outputs": [
        {
          "output_type": "execute_result",
          "data": {
            "text/plain": [
              "0.5806446540880502"
            ]
          },
          "metadata": {
            "tags": []
          },
          "execution_count": 102
        }
      ]
    },
    {
      "cell_type": "code",
      "metadata": {
        "colab": {
          "base_uri": "https://localhost:8080/"
        },
        "id": "iu6UXMm-Ebxj",
        "outputId": "6629c8af-a7e7-403f-f646-ec1538bfd646"
      },
      "source": [
        "# Random Forest Modelo de Clasificación\r\n",
        "\r\n",
        "from sklearn.ensemble import RandomForestClassifier\r\n",
        "#Configurando el modelo\r\n",
        "rf_cl=RandomForestClassifier(max_depth=15,n_estimators=10,random_state=4) \r\n",
        " # Entrenamiento del modelo\r\n",
        "rf_cl.fit(Xtrain,Ytrain)  \r\n",
        " "
      ],
      "execution_count": 103,
      "outputs": [
        {
          "output_type": "execute_result",
          "data": {
            "text/plain": [
              "RandomForestClassifier(bootstrap=True, ccp_alpha=0.0, class_weight=None,\n",
              "                       criterion='gini', max_depth=15, max_features='auto',\n",
              "                       max_leaf_nodes=None, max_samples=None,\n",
              "                       min_impurity_decrease=0.0, min_impurity_split=None,\n",
              "                       min_samples_leaf=1, min_samples_split=2,\n",
              "                       min_weight_fraction_leaf=0.0, n_estimators=10,\n",
              "                       n_jobs=None, oob_score=False, random_state=4, verbose=0,\n",
              "                       warm_start=False)"
            ]
          },
          "metadata": {
            "tags": []
          },
          "execution_count": 103
        }
      ]
    },
    {
      "cell_type": "code",
      "metadata": {
        "colab": {
          "base_uri": "https://localhost:8080/"
        },
        "id": "q5enYmyKE8YX",
        "outputId": "12ababa8-fabe-48ca-964d-bbdf3c6698a6"
      },
      "source": [
        "# Precisión en el entrenamiento\r\n",
        "print(rf_cl.score(Xtrain,Ytrain))"
      ],
      "execution_count": 105,
      "outputs": [
        {
          "output_type": "stream",
          "text": [
            "0.9336670838548186\n"
          ],
          "name": "stdout"
        }
      ]
    },
    {
      "cell_type": "code",
      "metadata": {
        "colab": {
          "base_uri": "https://localhost:8080/"
        },
        "id": "OMmlmn2GFAs3",
        "outputId": "62596b67-16c9-4e80-b31e-6e103fb654e3"
      },
      "source": [
        "#Precisión en el testing\r\n",
        "print(rf_cl.score(Xtest,Ytest) )"
      ],
      "execution_count": 107,
      "outputs": [
        {
          "output_type": "stream",
          "text": [
            "0.58\n"
          ],
          "name": "stdout"
        }
      ]
    },
    {
      "cell_type": "code",
      "metadata": {
        "colab": {
          "base_uri": "https://localhost:8080/"
        },
        "id": "m-d2fekeFH-q",
        "outputId": "d73b7f8f-2d96-4ca1-cf70-1cd84c2bd804"
      },
      "source": [
        "#XGBoost Modelo de Clasificación\r\n",
        "import xgboost as xgb\r\n",
        "\r\n",
        "#Configurando el modelo\r\n",
        "xgb_cl=xgb.XGBClassifier(objective='binary:logistic',max_depth=15, n_estimators=10,seed=4) \r\n",
        "\r\n",
        "# Entrenamiento del modelo\r\n",
        "xgb_cl.fit(Xtrain,Ytrain) "
      ],
      "execution_count": 110,
      "outputs": [
        {
          "output_type": "execute_result",
          "data": {
            "text/plain": [
              "XGBClassifier(base_score=0.5, booster='gbtree', colsample_bylevel=1,\n",
              "              colsample_bynode=1, colsample_bytree=1, gamma=0,\n",
              "              learning_rate=0.1, max_delta_step=0, max_depth=15,\n",
              "              min_child_weight=1, missing=None, n_estimators=10, n_jobs=1,\n",
              "              nthread=None, objective='binary:logistic', random_state=0,\n",
              "              reg_alpha=0, reg_lambda=1, scale_pos_weight=1, seed=4,\n",
              "              silent=None, subsample=1, verbosity=1)"
            ]
          },
          "metadata": {
            "tags": []
          },
          "execution_count": 110
        }
      ]
    },
    {
      "cell_type": "code",
      "metadata": {
        "colab": {
          "base_uri": "https://localhost:8080/"
        },
        "id": "rRteC3x_GGn0",
        "outputId": "78394ae2-e01c-4927-e6bd-e4fa0b0d5edd"
      },
      "source": [
        "# Precisión en el entrenamiento\r\n",
        "print(xgb_cl.score(Xtrain,Ytrain))"
      ],
      "execution_count": 111,
      "outputs": [
        {
          "output_type": "stream",
          "text": [
            "0.9380475594493116\n"
          ],
          "name": "stdout"
        }
      ]
    },
    {
      "cell_type": "code",
      "metadata": {
        "colab": {
          "base_uri": "https://localhost:8080/"
        },
        "id": "m82HQvHNGZe5",
        "outputId": "267571f4-1fc8-42c8-ecc2-aa067b891f81"
      },
      "source": [
        "# Precisión en el testing\r\n",
        "print(xgb_cl.score(Xtest,Ytest))"
      ],
      "execution_count": 112,
      "outputs": [
        {
          "output_type": "stream",
          "text": [
            "0.5775\n"
          ],
          "name": "stdout"
        }
      ]
    }
  ]
}